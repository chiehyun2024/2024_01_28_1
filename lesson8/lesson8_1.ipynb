{
 "cells": [
  {
   "cell_type": "code",
   "execution_count": 17,
   "metadata": {},
   "outputs": [
    {
     "name": "stdout",
     "output_type": "stream",
     "text": [
      "============猜數字遊戲============\n",
      "\n",
      "\n",
      "超出範圍\n",
      "已經猜了1次\n",
      "超出範圍\n",
      "已經猜了2次\n",
      "範圍內\n",
      "遊戲結束\n"
     ]
    }
   ],
   "source": [
    "#猜數字遊戲\n",
    "import random\n",
    "\n",
    "min = 1\n",
    "max = 100\n",
    "guess = random.randint(min,max)\n",
    "count = 0\n",
    "\n",
    "print(\"============猜數字遊戲============\\n\\n\")\n",
    "#print(f'要猜的數字是{guess}')\n",
    "while(True):\n",
    "    try:\n",
    "        kyein = int(input(f'猜數字範圍{min}~{max}'))\n",
    "        if(kyein<=max and kyein>=min):\n",
    "            print('範圍內')\n",
    "            break\n",
    "        else:\n",
    "            print('超出範圍')\n",
    "\n",
    "    except:\n",
    "        print('輸入的格式錯誤')\n",
    "\n",
    "    count += 1\n",
    "    print(f'已經猜了{count}次')\n",
    "print('遊戲結束')\n"
   ]
  },
  {
   "cell_type": "code",
   "execution_count": 3,
   "metadata": {},
   "outputs": [
    {
     "name": "stdout",
     "output_type": "stream",
     "text": [
      "============猜數字遊戲============\n",
      "\n",
      "\n",
      "在小一點\n",
      "已經猜了1次\n",
      "在小一點\n",
      "已經猜了2次\n",
      "在小一點\n",
      "已經猜了3次\n",
      "在小一點\n",
      "已經猜了4次\n",
      "在小一點\n",
      "已經猜了5次\n",
      "在大一點\n",
      "已經猜了6次\n",
      "在大一點\n",
      "已經猜了7次\n",
      "在小一點\n",
      "已經猜了8次\n",
      "在小一點\n",
      "已經猜了9次\n",
      "在小一點\n",
      "已經猜了10次\n",
      "在小一點\n",
      "已經猜了11次\n",
      "賓果!猜對了,答案是:11\n",
      "遊戲結束\n"
     ]
    }
   ],
   "source": [
    "#使範圍縮小\n",
    "import random\n",
    "\n",
    "min = 1\n",
    "max = 100\n",
    "guess = random.randint(min,max)\n",
    "count = 0\n",
    "\n",
    "print(\"============猜數字遊戲============\\n\\n\")\n",
    "#print(f'要猜的數字是{guess}')\n",
    "while(True):\n",
    "    try:\n",
    "        keyin = int(input(f'猜數字範圍{min}~{max}'))\n",
    "        count += 1\n",
    "        if keyin<=max and keyin >=min:\n",
    "            if keyin == guess:\n",
    "                print(f'賓果!猜對了,答案是:{guess}')\n",
    "                print(f'你猜了{count}次')\n",
    "                break\n",
    "            elif keyin > guess:\n",
    "                print('在小一點')\n",
    "                max = keyin - 1\n",
    "\n",
    "            elif keyin < guess :\n",
    "                print('在大一點')\n",
    "                min = keyin + 1\n",
    "        else:\n",
    "            print('超出範圍')\n",
    "\n",
    "    except:\n",
    "        print('輸入的格式錯誤')\n",
    "        count += 1\n",
    "  \n",
    "    print(f'已經猜了{count}次')\n",
    "print('遊戲結束')"
   ]
  },
  {
   "cell_type": "code",
   "execution_count": 6,
   "metadata": {},
   "outputs": [
    {
     "name": "stdout",
     "output_type": "stream",
     "text": [
      "你還要繼續嗎?\n",
      "1. yes\n",
      "2. no\n",
      "'3' is not a valid choice.\n",
      "你還要繼續嗎?\n",
      "1. yes\n",
      "2. no\n"
     ]
    },
    {
     "data": {
      "text/plain": [
       "'no'"
      ]
     },
     "execution_count": 6,
     "metadata": {},
     "output_type": "execute_result"
    }
   ],
   "source": [
    "import pyinputplus as pyip\n",
    "\n",
    "menu_value = pyip.inputMenu(['yes','no'],prompt='你還要繼續嗎?\\n',numbered=True)\n",
    "menu_value "
   ]
  },
  {
   "cell_type": "code",
   "execution_count": 7,
   "metadata": {},
   "outputs": [
    {
     "name": "stdout",
     "output_type": "stream",
     "text": [
      "============猜數字遊戲============\n",
      "\n",
      "\n",
      "在大一點\n",
      "已經猜了1次\n",
      "在小一點\n",
      "已經猜了2次\n",
      "在大一點\n",
      "已經猜了3次\n",
      "賓果!猜對了,答案是:91\n",
      "你猜了4次\n",
      "你還要繼續嗎?\n",
      "1. yes\n",
      "2. no\n",
      "============猜數字遊戲============\n",
      "\n",
      "\n",
      "在小一點\n",
      "已經猜了1次\n",
      "在大一點\n",
      "已經猜了2次\n",
      "在小一點\n",
      "已經猜了3次\n",
      "在小一點\n",
      "已經猜了4次\n",
      "在小一點\n",
      "已經猜了5次\n",
      "賓果!猜對了,答案是:53\n",
      "你猜了6次\n",
      "你還要繼續嗎?\n",
      "1. yes\n",
      "2. no\n",
      "遊戲結束\n"
     ]
    }
   ],
   "source": [
    "#是否繼續玩\n",
    "import random\n",
    "import pyinputplus as pyip\n",
    "while(True):\n",
    "    min = 1\n",
    "    max = 100\n",
    "    guess = random.randint(min,max)\n",
    "    count = 0\n",
    "\n",
    "    print(\"============猜數字遊戲============\\n\\n\")\n",
    "    #print(f'要猜的數字是{guess}')\n",
    "    while(True):\n",
    "        try:\n",
    "            keyin = int(input(f'猜數字範圍{min}~{max}'))\n",
    "            count += 1\n",
    "            if keyin<=max and keyin >=min:\n",
    "                if keyin == guess:\n",
    "                    print(f'賓果!猜對了,答案是:{guess}')\n",
    "                    print(f'你猜了{count}次')\n",
    "                    break\n",
    "                elif keyin > guess:\n",
    "                    print('在小一點')\n",
    "                    max = keyin - 1\n",
    "\n",
    "                elif keyin < guess :\n",
    "                    print('在大一點')\n",
    "                    min = keyin + 1\n",
    "            else:\n",
    "                print('超出範圍')\n",
    "\n",
    "        except:\n",
    "            print('輸入的格式錯誤')\n",
    "            count += 1\n",
    "    \n",
    "        print(f'已經猜了{count}次')\n",
    "    menu_value = pyip.inputMenu(['yes','no'],prompt='你還要繼續嗎?\\n',numbered=True)\n",
    "    if menu_value == 'no':\n",
    "        break\n",
    "print('遊戲結束')    \n"
   ]
  }
 ],
 "metadata": {
  "kernelspec": {
   "display_name": "Python 3",
   "language": "python",
   "name": "python3"
  },
  "language_info": {
   "codemirror_mode": {
    "name": "ipython",
    "version": 3
   },
   "file_extension": ".py",
   "mimetype": "text/x-python",
   "name": "python",
   "nbconvert_exporter": "python",
   "pygments_lexer": "ipython3",
   "version": "3.10.13"
  }
 },
 "nbformat": 4,
 "nbformat_minor": 2
}
