{
 "cells": [
  {
   "cell_type": "code",
   "execution_count": null,
   "metadata": {},
   "outputs": [],
   "source": [
    "#學生總分為300\n",
    "#有些學生可以加5%\n",
    "#如果加分超過300分,以300分為主\n",
    "\n",
    "#type hint\n",
    "#資料型別的提醒\n",
    "\n",
    "scores:int = int(input('請輸入學生分數(最高300分):'))\n",
    "is_add:str = input('學生是否符合加分條件?(y,n):')\n",
    "\n",
    "#多個條件,使用巢項判斷\n",
    "if is_add == 'y':\n",
    "    scores *= 1.05\n",
    "    if scores > 300:\n",
    "        scores = 300    \n",
    "  \n",
    "print(f'學生總分為{scores:.0f}')"
   ]
  }
 ],
 "metadata": {
  "kernelspec": {
   "display_name": "Python 3",
   "language": "python",
   "name": "python3"
  },
  "language_info": {
   "name": "python",
   "version": "3.10.13"
  }
 },
 "nbformat": 4,
 "nbformat_minor": 2
}
