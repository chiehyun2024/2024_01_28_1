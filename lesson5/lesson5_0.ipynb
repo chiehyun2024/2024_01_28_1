{
 "cells": [
  {
   "cell_type": "code",
   "execution_count": 4,
   "metadata": {},
   "outputs": [
    {
     "name": "stdout",
     "output_type": "stream",
     "text": [
      "它是人類或沒有毛的熊\n"
     ]
    }
   ],
   "source": [
    "is_furry = input(\"請問動物有毛嗎?(y,n)\")\n",
    "is_small = input(\"請問動物是小的嗎?(y,n)\")\n",
    "\n",
    "if is_furry == 'y':\n",
    "    if is_small == 'y':\n",
    "        print('貓')\n",
    "    else:\n",
    "        print('熊')    \n",
    "else :\n",
    "    if is_small == 'y':\n",
    "        print('蜥蜴')\n",
    "    else:\n",
    "        print('它是人類或沒有毛的熊')    \n",
    "\n"
   ]
  }
 ],
 "metadata": {
  "kernelspec": {
   "display_name": "Python 3",
   "language": "python",
   "name": "python3"
  },
  "language_info": {
   "codemirror_mode": {
    "name": "ipython",
    "version": 3
   },
   "file_extension": ".py",
   "mimetype": "text/x-python",
   "name": "python",
   "nbconvert_exporter": "python",
   "pygments_lexer": "ipython3",
   "version": "3.10.13"
  }
 },
 "nbformat": 4,
 "nbformat_minor": 2
}
