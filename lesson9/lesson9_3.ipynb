{
 "cells": [
  {
   "cell_type": "code",
   "execution_count": 2,
   "metadata": {},
   "outputs": [
    {
     "name": "stdout",
     "output_type": "stream",
     "text": [
      "[['筆記電腦', '商用電腦', '電競電腦'], ['APPLE', 'ASUS', 'HTC'], ['冰箱', '洗衣機', '電視']]\n"
     ]
    }
   ],
   "source": [
    "from pprint import pprint\n",
    "\n",
    "nb = ['筆記電腦','商用電腦','電競電腦']\n",
    "mobile = ['APPLE','ASUS','HTC']\n",
    "home = ['冰箱','洗衣機','電視']\n",
    "\n",
    "all3c = [nb, mobile, home]\n",
    "pprint(all3c)\n"
   ]
  },
  {
   "cell_type": "code",
   "execution_count": 3,
   "metadata": {},
   "outputs": [
    {
     "name": "stdout",
     "output_type": "stream",
     "text": [
      "[['筆記電腦', '商用電腦', '電競電腦'], ['APPLE', 'ASUS', 'HTC'], ['冰箱', '洗衣機', '電視']]\n"
     ]
    }
   ],
   "source": [
    "nb:list[str] = ['筆記電腦','商用電腦','電競電腦']  #type hint\n",
    "mobile = ['APPLE','ASUS','HTC']\n",
    "home = ['冰箱','洗衣機','電視']\n",
    "\n",
    "all3c = [nb, mobile, home]\n",
    "print(all3c)"
   ]
  },
  {
   "cell_type": "code",
   "execution_count": 6,
   "metadata": {},
   "outputs": [
    {
     "data": {
      "text/plain": [
       "[['筆記電腦', '商用電腦', '電競電腦'], ['APPLE', 'ASUS', 'HTC'], ['冰箱', '洗衣機', '電視']]"
      ]
     },
     "execution_count": 6,
     "metadata": {},
     "output_type": "execute_result"
    }
   ],
   "source": [
    "#使用list的實體方法,append(),值依序顯示在後面\n",
    "#實體名稱all3c   實體方法append()\n",
    "all3c:list[list[str]] = []\n",
    "all3c.append(nb)\n",
    "all3c.append(mobile)\n",
    "all3c.append(home)\n",
    "all3c"
   ]
  },
  {
   "cell_type": "code",
   "execution_count": 7,
   "metadata": {},
   "outputs": [
    {
     "data": {
      "text/plain": [
       "[['冰箱', '洗衣機', '電視'], ['APPLE', 'ASUS', 'HTC'], ['筆記電腦', '商用電腦', '電競電腦']]"
      ]
     },
     "execution_count": 7,
     "metadata": {},
     "output_type": "execute_result"
    }
   ],
   "source": [
    "#使用list的實體方法,reverse(),值倒過來\n",
    "all3c:list[list[str]] = []\n",
    "all3c.append(nb)\n",
    "all3c.append(mobile)\n",
    "all3c.append(home)\n",
    "all3c\n",
    "all3c.reverse()\n",
    "all3c"
   ]
  },
  {
   "cell_type": "code",
   "execution_count": 9,
   "metadata": {},
   "outputs": [
    {
     "data": {
      "text/plain": [
       "[61, 61, 90, 54, 67]"
      ]
     },
     "execution_count": 9,
     "metadata": {},
     "output_type": "execute_result"
    }
   ],
   "source": [
    "from random import randint     #隨機數\n",
    "stu1: list[int] = [randint(50,100),randint(50,100),randint(50,100),randint(50,100),randint(50,100)]\n",
    "stu1"
   ]
  },
  {
   "cell_type": "code",
   "execution_count": 23,
   "metadata": {},
   "outputs": [
    {
     "data": {
      "text/plain": [
       "[85, 85, 83, 64, 64]"
      ]
     },
     "execution_count": 23,
     "metadata": {},
     "output_type": "execute_result"
    }
   ],
   "source": [
    "#求5個50-100的隨機數\n",
    "stu2: list[int] = []\n",
    "for _ in range(5):\n",
    "    stu2.append(randint(50,100))\n",
    "stu2"
   ]
  },
  {
   "cell_type": "code",
   "execution_count": 25,
   "metadata": {},
   "outputs": [
    {
     "data": {
      "text/plain": [
       "[55, 85, 73, 63, 85]"
      ]
     },
     "execution_count": 25,
     "metadata": {},
     "output_type": "execute_result"
    }
   ],
   "source": [
    "#List comprehension -> 快速建立list\n",
    "#[值 for...in...]\n",
    "stu3: list[int] = [randint(50,100) for _ in range(5)]\n",
    "stu3"
   ]
  },
  {
   "cell_type": "code",
   "execution_count": 27,
   "metadata": {},
   "outputs": [
    {
     "name": "stdout",
     "output_type": "stream",
     "text": [
      "[[95, 87, 54, 93, 50],\n",
      " [98, 80, 61, 86, 81],\n",
      " [51, 62, 77, 84, 90],\n",
      " [99, 99, 74, 90, 67],\n",
      " [63, 64, 97, 59, 57],\n",
      " [59, 80, 78, 71, 79],\n",
      " [81, 64, 50, 86, 52],\n",
      " [94, 61, 66, 77, 97],\n",
      " [92, 87, 55, 54, 55],\n",
      " [59, 76, 92, 61, 60],\n",
      " [94, 72, 73, 87, 79],\n",
      " [53, 92, 71, 92, 88],\n",
      " [66, 63, 95, 63, 99],\n",
      " [55, 75, 52, 95, 76],\n",
      " [51, 82, 87, 79, 79],\n",
      " [59, 73, 58, 69, 84],\n",
      " [86, 86, 83, 65, 100],\n",
      " [97, 50, 57, 85, 76],\n",
      " [83, 77, 73, 75, 53],\n",
      " [66, 87, 50, 87, 68],\n",
      " [69, 76, 80, 51, 58],\n",
      " [61, 99, 81, 100, 57],\n",
      " [77, 65, 68, 64, 65],\n",
      " [69, 73, 69, 50, 78],\n",
      " [78, 64, 83, 96, 67],\n",
      " [85, 58, 90, 94, 61],\n",
      " [77, 77, 89, 99, 88],\n",
      " [96, 85, 94, 51, 80],\n",
      " [74, 80, 65, 80, 66],\n",
      " [84, 55, 62, 74, 55],\n",
      " [60, 55, 78, 54, 91],\n",
      " [79, 93, 99, 80, 70],\n",
      " [64, 57, 79, 79, 91],\n",
      " [50, 82, 60, 82, 51],\n",
      " [82, 63, 98, 67, 88],\n",
      " [55, 65, 100, 88, 69],\n",
      " [82, 63, 69, 68, 76],\n",
      " [69, 88, 67, 88, 61],\n",
      " [97, 65, 90, 72, 70],\n",
      " [68, 93, 63, 69, 83],\n",
      " [62, 92, 64, 62, 68],\n",
      " [51, 51, 83, 100, 69],\n",
      " [79, 68, 91, 83, 82],\n",
      " [85, 64, 64, 74, 69],\n",
      " [50, 96, 93, 86, 95],\n",
      " [50, 64, 100, 99, 93],\n",
      " [87, 89, 70, 76, 64],\n",
      " [87, 68, 76, 70, 60],\n",
      " [86, 77, 88, 97, 93],\n",
      " [71, 73, 90, 85, 86]]\n"
     ]
    }
   ],
   "source": [
    "from pprint import pprint\n",
    "\n",
    "students:list[list[int]] = []\n",
    "for _ in range(50):\n",
    "    stu:list[int] = [randint(50,100) for _ in range(5)]\n",
    "    students.append(stu)\n",
    "\n",
    "pprint(students)"
   ]
  }
 ],
 "metadata": {
  "kernelspec": {
   "display_name": "Python 3",
   "language": "python",
   "name": "python3"
  },
  "language_info": {
   "codemirror_mode": {
    "name": "ipython",
    "version": 3
   },
   "file_extension": ".py",
   "mimetype": "text/x-python",
   "name": "python",
   "nbconvert_exporter": "python",
   "pygments_lexer": "ipython3",
   "version": "3.10.13"
  }
 },
 "nbformat": 4,
 "nbformat_minor": 2
}
