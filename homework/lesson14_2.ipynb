{
 "cells": [
  {
   "cell_type": "code",
   "execution_count": 1,
   "metadata": {},
   "outputs": [
    {
     "name": "stdout",
     "output_type": "stream",
     "text": [
      "下載成功\n"
     ]
    }
   ],
   "source": [
    "#轉成新學生分數.csv\n",
    "import requests\n",
    "csv_url = 'https://raw.githubusercontent.com/roberthsu2003/python/master/pydantic/%E5%AD%B8%E7%94%9F%E5%88%86%E6%95%B8.csv'\n",
    "res = requests.get(url=csv_url)\n",
    "if res.ok:\n",
    "    print('下載成功')\n",
    "else:\n",
    "    print('下載失敗')"
   ]
  },
  {
   "cell_type": "code",
   "execution_count": 2,
   "metadata": {},
   "outputs": [],
   "source": [
    "\n",
    "from pydantic import BaseModel,Field,RootModel\n",
    "\n",
    "class Scores(BaseModel):\n",
    "    姓名:str\n",
    "    國文:int = Field(alias='科目1')\n",
    "    英文:int = Field(alias='科目2')\n",
    "    數學:int = Field(alias='科目3')\n",
    "    地理:int = Field(alias='科目4')\n",
    "    歷史:int = Field(alias='科目5')\n",
    "  \n",
    "class Student(RootModel):\n",
    "    root:list[Scores]\n",
    "\n",
    "    def __iter__(self):\n",
    "        return iter(self.root)\n",
    "\n",
    "    def __getitem__(self, item):\n",
    "        return self.root[item]"
   ]
  },
  {
   "cell_type": "code",
   "execution_count": 7,
   "metadata": {},
   "outputs": [],
   "source": [
    "import io\n",
    "import csv\n",
    "csv_url:str = res.text\n",
    "csv_file = io.StringIO(csv_url)\n",
    "dict_reader = csv.DictReader(csv_file)\n",
    "csv_data = list(dict_reader)\n"
   ]
  },
  {
   "cell_type": "code",
   "execution_count": 8,
   "metadata": {},
   "outputs": [],
   "source": [
    "csv_root = Student.model_validate(csv_data)"
   ]
  },
  {
   "cell_type": "code",
   "execution_count": 9,
   "metadata": {},
   "outputs": [
    {
     "name": "stdout",
     "output_type": "stream",
     "text": [
      "存檔成功\n"
     ]
    }
   ],
   "source": [
    "with open('新學生分數.csv',mode='w',encoding='utf-8',newline='') as file:\n",
    "    dict_writer = csv.DictWriter(file,fieldnames=list(Scores.model_fields.keys()))\n",
    "    dict_writer.writeheader()\n",
    "    for site in csv_root:\n",
    "        dict_writer.writerow(site.model_dump())\n",
    "\n",
    "print('存檔成功')"
   ]
  }
 ],
 "metadata": {
  "kernelspec": {
   "display_name": "Python 3",
   "language": "python",
   "name": "python3"
  },
  "language_info": {
   "codemirror_mode": {
    "name": "ipython",
    "version": 3
   },
   "file_extension": ".py",
   "mimetype": "text/x-python",
   "name": "python",
   "nbconvert_exporter": "python",
   "pygments_lexer": "ipython3",
   "version": "3.10.13"
  }
 },
 "nbformat": 4,
 "nbformat_minor": 2
}
