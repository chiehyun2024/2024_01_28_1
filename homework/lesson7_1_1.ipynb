{
 "cells": [
  {
   "cell_type": "code",
   "execution_count": null,
   "metadata": {},
   "outputs": [],
   "source": [
    "#小明想要存錢買一輛機車,機車每輛30000元，他將每月存的錢輸入，當存款足夠買機車時，就顯示提示訊息告知。\n",
    "#使用break跳出迴圈\n",
    "import pyinputplus as pyip\n",
    "\n",
    "count:int = 0\n",
    "deposit:int = 0\n",
    "while(True):\n",
    "    count += 1\n",
    "    value:int = pyip.inputInt(f'請輸入第{count}月份的存款:')\n",
    "    print(value)\n",
    "    deposit += value\n",
    "    if deposit >= 30000:\n",
    "        break\n",
    "\n",
    "print(f'恭喜!已經存夠了,存了{count}個月份,共存了{deposit}元')"
   ]
  },
  {
   "cell_type": "code",
   "execution_count": 17,
   "metadata": {},
   "outputs": [
    {
     "name": "stdout",
     "output_type": "stream",
     "text": [
      "請輸入整數:'5.5' is not an integer.\n",
      "請輸入整數:'5a' is not an integer.\n",
      "請輸入整數:53為整數,求所有因數:\n",
      "53的因數有1\n",
      "53的因數有53\n"
     ]
    }
   ],
   "source": [
    "#輸入:請輸入整數,求所有因數:\n",
    "#輸出:10的因數有:1,2,5,10\n",
    "import pyinputplus as pyip\n",
    "\n",
    "number:int=pyip.inputInt('請輸入整數:')\n",
    "print(f'{number}為整數,求所有因數:')\n",
    "divisor:int = 0\n",
    "while(True):\n",
    "    divisor += 1\n",
    "    if number % divisor == 0:\n",
    "        print(f'{number}的因數有{divisor}')\n",
    "    if number == divisor :\n",
    "        break\n"
   ]
  }
 ],
 "metadata": {
  "kernelspec": {
   "display_name": "Python 3",
   "language": "python",
   "name": "python3"
  },
  "language_info": {
   "codemirror_mode": {
    "name": "ipython",
    "version": 3
   },
   "file_extension": ".py",
   "mimetype": "text/x-python",
   "name": "python",
   "nbconvert_exporter": "python",
   "pygments_lexer": "ipython3",
   "version": "3.10.13"
  }
 },
 "nbformat": 4,
 "nbformat_minor": 2
}
