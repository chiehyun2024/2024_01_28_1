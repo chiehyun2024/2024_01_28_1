{
 "cells": [
  {
   "cell_type": "code",
   "execution_count": 7,
   "metadata": {},
   "outputs": [],
   "source": [
    "def get_names(nums=1)->list[str]:\n",
    "    import random\n",
    "    with open('names.txt',encoding='utf-8') as file:\n",
    "        names: str = file.read()\n",
    "    name_list: list[str] = names.split(sep='\\n')\n",
    "    return random.choices(name_list,k=nums)"
   ]
  },
  {
   "cell_type": "code",
   "execution_count": 28,
   "metadata": {},
   "outputs": [
    {
     "data": {
      "text/plain": [
       "[{'姓名': '梁柏宇', '國文': 100, '英文': 90, '數學': 58, '物理': 50, '生物': 80}]"
      ]
     },
     "execution_count": 28,
     "metadata": {},
     "output_type": "execute_result"
    }
   ],
   "source": [
    "#建立50個學生名字\n",
    "from random import randint\n",
    "names: list[str] = get_names()\n",
    "students:list[dict] = []\n",
    "for name in names:\n",
    "    student:dict = {'姓名':name}\n",
    "    for subject in ['國文','英文','數學','物理','生物']:\n",
    "        student[subject] = randint(50,100)\n",
    "    students.append(student)\n",
    "\n",
    "students"
   ]
  },
  {
   "cell_type": "code",
   "execution_count": 2,
   "metadata": {},
   "outputs": [],
   "source": [
    "def getSuggestion(bmi:float) -> str:\n",
    "    print(f'您的BMI值為:{bmi:.2f}')\n",
    "    if bmi<18.5:\n",
    "        message = '您的體重:體重過輕'\n",
    "    elif bmi<24:\n",
    "        message = '您的體重:正常'\n",
    "    elif bmi<27:\n",
    "        message = '您的體重:過重'\n",
    "    elif bmi<30:\n",
    "        message = '您的體重:輕度肥胖'\n",
    "    elif bmi<35:\n",
    "        message = '您的體重:中度肥胖'\n",
    "    else:\n",
    "        message = '您的體重:重度肥胖'\n",
    "\n",
    "    return message  "
   ]
  },
  {
   "cell_type": "code",
   "execution_count": 14,
   "metadata": {},
   "outputs": [
    {
     "name": "stdout",
     "output_type": "stream",
     "text": [
      "郭舜昇您好:\n",
      "您的BMI值為:18.97\n",
      "您的體重:正常\n"
     ]
    }
   ],
   "source": [
    "#輸入:\n",
    "#姓名:xxx (由亂數取得)\n",
    "#身高(公分):xxx\n",
    "#體重(公斤):xxx\n",
    "\n",
    "#輸出:\n",
    "#xxx您好:\n",
    "#您的BMI是:xxx.xxx\n",
    "#您的體重:過重\n",
    "import random\n",
    "\n",
    "def getSuggestion(bmi:float) -> str:\n",
    "    print(f'您的BMI值為:{bmi:.2f}')\n",
    "    if bmi<18.5:\n",
    "        message = '您的體重:過輕'\n",
    "    elif bmi<24:\n",
    "        message = '您的體重:正常'\n",
    "    elif bmi<27:\n",
    "        message = '您的體重:過重'\n",
    "    elif bmi<30:\n",
    "        message = '您的體重:輕度肥胖'\n",
    "    elif bmi<35:\n",
    "        message = '您的體重:中度肥胖'\n",
    "    else:\n",
    "        message = '您的體重:重度肥胖'\n",
    "\n",
    "    return message \n",
    "\n",
    "with open('names.txt',encoding='utf-8') as file:\n",
    "    names: str = file.read()\n",
    "    name_list: list[str] = names.split(sep='\\n')\n",
    "    XXX = random.choice(name_list)\n",
    "    print(f'{XXX}您好:')\n",
    "\n",
    "try:\n",
    "    height = eval(input(f'{XXX}您好,請輸入身高(公分,120-250):'))\n",
    "    weight = eval(input(f'{XXX}您好,請輸入體重(公斤,30-250):'))\n",
    "    if (height >= 120 and height<=250) and (weight >=30 and weight <=250) :\n",
    "        bmi = weight/(height/100)**2\n",
    "        print(getSuggestion(bmi))    #function(傳出結果)\n",
    "    else :\n",
    "        print('身高或體重超出範圍')\n",
    "except:\n",
    "    print('輸入格式有錯誤')\n",
    "\n"
   ]
  }
 ],
 "metadata": {
  "kernelspec": {
   "display_name": "Python 3",
   "language": "python",
   "name": "python3"
  },
  "language_info": {
   "codemirror_mode": {
    "name": "ipython",
    "version": 3
   },
   "file_extension": ".py",
   "mimetype": "text/x-python",
   "name": "python",
   "nbconvert_exporter": "python",
   "pygments_lexer": "ipython3",
   "version": "3.10.13"
  }
 },
 "nbformat": 4,
 "nbformat_minor": 2
}
