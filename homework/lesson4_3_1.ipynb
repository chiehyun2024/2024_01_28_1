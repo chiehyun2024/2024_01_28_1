{
 "cells": [
  {
   "cell_type": "code",
   "execution_count": null,
   "metadata": {},
   "outputs": [],
   "source": [
    "#學生總分為300\n",
    "#有些學生可以加5%\n",
    "#如果加分超過300分,以300分為主\n",
    "\n",
    "#type hint\n",
    "#資料型別的提醒\n",
    "\n",
    "scores:int = int(input('請輸入學生分數(最高300分):'))\n",
    "is_add:str = input('學生是否符合加分條件?(y,n):')\n",
    "\n",
    "#多個條件,使用巢項判斷\n",
    "if is_add == 'y':\n",
    "    scores *= 1.05\n",
    "    if scores > 300:\n",
    "        scores = 300\n",
    "else:\n",
    "    print('學生沒有加分')        \n",
    "  \n",
    "print(f'學生總分為{scores:.0f}')"
   ]
  },
  {
   "cell_type": "code",
   "execution_count": 21,
   "metadata": {},
   "outputs": [
    {
     "name": "stdout",
     "output_type": "stream",
     "text": [
      "它是小蜥蜴\n"
     ]
    }
   ],
   "source": [
    "#判斷動物\n",
    "#如果動物是有毛,是小的輸出(它是貓)\n",
    "#如果動物是有毛,是大的輸出(它是熊)\n",
    "#如果動物是沒有毛,是小的輸出(它是小蜥蜴)\n",
    "#如果動物是沒有毛,是大的輸出(它是人類或沒有毛的熊)\n",
    "\n",
    "is_furry = input(\"請問動物有毛嗎?(y,n)\")\n",
    "is_small= input(\"請問動物是小的嗎?(y,n)\")\n",
    "\n",
    "if is_furry == 'y':\n",
    "    if is_small == 'y':print('它是貓')\n",
    "    else:print('它是熊')\n",
    "\n",
    "else:\n",
    "    if is_small == 'y':print('它是小蜥蜴')\n",
    "    else:print('它是人類或沒有毛的熊')  \n",
    "\n",
    "\n",
    "\n",
    "\n",
    "\n",
    "\n"
   ]
  }
 ],
 "metadata": {
  "kernelspec": {
   "display_name": "Python 3",
   "language": "python",
   "name": "python3"
  },
  "language_info": {
   "codemirror_mode": {
    "name": "ipython",
    "version": 3
   },
   "file_extension": ".py",
   "mimetype": "text/x-python",
   "name": "python",
   "nbconvert_exporter": "python",
   "pygments_lexer": "ipython3",
   "version": "3.10.13"
  }
 },
 "nbformat": 4,
 "nbformat_minor": 2
}
