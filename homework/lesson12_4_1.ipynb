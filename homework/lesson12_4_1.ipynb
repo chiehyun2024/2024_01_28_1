{
 "cells": [
  {
   "cell_type": "code",
   "execution_count": null,
   "metadata": {},
   "outputs": [],
   "source": [
    "#輸出:\n",
    "#白美珍,身高:175cm,體重:85公斤,BMI:xx,體重:正常\n",
    "#提示:\n",
    "#建立一個計算BMI的function\n",
    "#建立一個計算建議的function"
   ]
  },
  {
   "cell_type": "code",
   "execution_count": 22,
   "metadata": {},
   "outputs": [
    {
     "data": {
      "text/plain": [
       "[Person(name='游詩亞', height=150, weight=68),\n",
       " Person(name='張彥博', height=184, weight=69),\n",
       " Person(name='昌嘉洋', height=192, weight=58),\n",
       " Person(name='林怡偉', height=150, weight=98),\n",
       " Person(name='簡佳樺', height=188, weight=99),\n",
       " Person(name='蘇凡菁', height=175, weight=107),\n",
       " Person(name='陳怡珊', height=171, weight=103),\n",
       " Person(name='劉慧君', height=166, weight=109),\n",
       " Person(name='張慧君', height=181, weight=70),\n",
       " Person(name='李彥伸', height=191, weight=108),\n",
       " Person(name='李慶亮', height=180, weight=68),\n",
       " Person(name='劉嘉泰', height=175, weight=93),\n",
       " Person(name='林志成', height=151, weight=65),\n",
       " Person(name='尚偉倫', height=162, weight=92),\n",
       " Person(name='林世城', height=176, weight=82),\n",
       " Person(name='潘英迪', height=195, weight=51),\n",
       " Person(name='張雅芬', height=164, weight=106),\n",
       " Person(name='洪阿惠', height=160, weight=56),\n",
       " Person(name='尚偉倫', height=184, weight=93),\n",
       " Person(name='高智超', height=184, weight=61),\n",
       " Person(name='張莉雯', height=190, weight=66),\n",
       " Person(name='陳冠霞', height=169, weight=103),\n",
       " Person(name='王梅劭', height=156, weight=99),\n",
       " Person(name='蔡嘉音', height=163, weight=90),\n",
       " Person(name='趙家豪', height=189, weight=66),\n",
       " Person(name='馮淑芬', height=158, weight=50),\n",
       " Person(name='蕭怡伶', height=175, weight=54),\n",
       " Person(name='謝佳穎', height=162, weight=88),\n",
       " Person(name='蘇凡菁', height=171, weight=51),\n",
       " Person(name='鄧亭聿', height=191, weight=89),\n",
       " Person(name='林佳光', height=151, weight=69),\n",
       " Person(name='鄧哲榮', height=178, weight=89),\n",
       " Person(name='陳慧君', height=175, weight=62),\n",
       " Person(name='盧必妍', height=195, weight=74),\n",
       " Person(name='林俊翔', height=187, weight=80),\n",
       " Person(name='劉依婷', height=175, weight=106),\n",
       " Person(name='許淑婷', height=187, weight=50),\n",
       " Person(name='吳振瑋', height=173, weight=99),\n",
       " Person(name='黃偉剛', height=170, weight=62),\n",
       " Person(name='吳柏誠', height=164, weight=63),\n",
       " Person(name='景歡燦', height=163, weight=78),\n",
       " Person(name='周琬婷', height=159, weight=108),\n",
       " Person(name='林向鈺', height=156, weight=89),\n",
       " Person(name='陳家年', height=182, weight=69),\n",
       " Person(name='戴萱能', height=175, weight=79),\n",
       " Person(name='蔡明平', height=181, weight=63),\n",
       " Person(name='黃佩玲', height=175, weight=69),\n",
       " Person(name='陳家年', height=159, weight=82),\n",
       " Person(name='張慧君', height=191, weight=70),\n",
       " Person(name='柯宜臻', height=174, weight=55)]"
      ]
     },
     "execution_count": 22,
     "metadata": {},
     "output_type": "execute_result"
    }
   ],
   "source": [
    "with open('names.txt',encoding='utf-8') as file:\n",
    "    names_str:str = file.read()\n",
    "names:list[str] = names_str.split(sep='\\n')\n",
    "\n",
    "from pydantic import BaseModel\n",
    "from random import randint\n",
    "import random\n",
    "\n",
    "num = 50\n",
    "randomNames:list[str] = random.choices(names,k=num)\n",
    "randomNames\n",
    "\n",
    "class Person(BaseModel):\n",
    "    name:str\n",
    "    height:int\n",
    "    weight:int\n",
    "    \n",
    "\n",
    "\n",
    "\n",
    "persons:list[Person] = []\n",
    "for name in randomNames:\n",
    "    person = Person(name=name,\n",
    "           height=randint(150,195),\n",
    "           weight=randint(50,110))  \n",
    "    persons.append(person)\n",
    "persons"
   ]
  }
 ],
 "metadata": {
  "kernelspec": {
   "display_name": "Python 3",
   "language": "python",
   "name": "python3"
  },
  "language_info": {
   "codemirror_mode": {
    "name": "ipython",
    "version": 3
   },
   "file_extension": ".py",
   "mimetype": "text/x-python",
   "name": "python",
   "nbconvert_exporter": "python",
   "pygments_lexer": "ipython3",
   "version": "3.10.13"
  }
 },
 "nbformat": 4,
 "nbformat_minor": 2
}
