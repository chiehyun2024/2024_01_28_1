{
 "cells": [
  {
   "cell_type": "code",
   "execution_count": null,
   "metadata": {},
   "outputs": [],
   "source": [
    "#BMI值計算公式:    BMI = 體重(公斤) / 身高2(公尺2)\n",
    "\n",
    "#檢查輸入的範圍\n",
    "#try...except...\n",
    "#輸出錯誤訊息\n",
    "\n",
    "#輸入:\n",
    "#請輸入身高(公分,120-250):\n",
    "#請輸入體重(公斤,30-250):\n",
    "\n",
    "#輸出:\n",
    "#您的BMI是:xxxx\n",
    "\n",
    "#自訂function\n",
    "#def getSuggestion(bmi:float) -> str:\n",
    "#   xxxxxx\n",
    "#   xxxxxx\n",
    "#   return xxxxx"
   ]
  },
  {
   "cell_type": "code",
   "execution_count": 12,
   "metadata": {},
   "outputs": [
    {
     "name": "stdout",
     "output_type": "stream",
     "text": [
      "身高或體重超出範圍\n",
      "身高為158.00公分,體重為999.00公斤\n",
      "您的BMI值為:23.53\n",
      "您的體重:正常\n"
     ]
    },
    {
     "data": {
      "text/plain": [
       "23.53036634346221"
      ]
     },
     "execution_count": 12,
     "metadata": {},
     "output_type": "execute_result"
    }
   ],
   "source": [
    "#自訂的function\n",
    "def getSuggestion(bmi:float) -> str:\n",
    "    print(f'身高為{height:.2f}公分,體重為{weight:.2f}公斤')\n",
    "    print(f'您的BMI值為:{bmi:.2f}')\n",
    "    if bmi<18.5:\n",
    "        print('您的體重:體重過輕')\n",
    "    elif bmi<24:\n",
    "        print('您的體重:正常')\n",
    "    elif bmi<27:\n",
    "        print('您的體重:過重')\n",
    "    elif bmi<30:\n",
    "        print('您的體重:輕度肥胖')\n",
    "    elif bmi<35:\n",
    "        print('您的體重:中度肥胖')\n",
    "    else:\n",
    "        print('您的體重:重度肥胖')\n",
    "\n",
    "    return bmi \n",
    "    \n",
    "try:\n",
    "    height = eval(input('請輸入身高(公分,120-250):'))\n",
    "    weight = eval(input('請輸入體重(公斤,30-250):'))\n",
    "    if (height >= 120 and height<=250) and (weight >=30 and weight <=250) :\n",
    "        bmi = weight/(height/100)**2\n",
    "    else :\n",
    "        print('身高或體重超出範圍')\n",
    "except:\n",
    "    print('輸入格式有錯誤')\n",
    "\n",
    "getSuggestion(bmi)"
   ]
  }
 ],
 "metadata": {
  "kernelspec": {
   "display_name": "Python 3",
   "language": "python",
   "name": "python3"
  },
  "language_info": {
   "codemirror_mode": {
    "name": "ipython",
    "version": 3
   },
   "file_extension": ".py",
   "mimetype": "text/x-python",
   "name": "python",
   "nbconvert_exporter": "python",
   "pygments_lexer": "ipython3",
   "version": "3.10.13"
  }
 },
 "nbformat": 4,
 "nbformat_minor": 2
}
