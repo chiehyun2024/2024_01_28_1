{
 "cells": [
  {
   "cell_type": "code",
   "execution_count": null,
   "metadata": {},
   "outputs": [],
   "source": [
    "#BMI值計算公式:    BMI = 體重(公斤) / 身高2(公尺2)\n",
    "\n",
    "#檢查輸入的範圍\n",
    "#try...except...\n",
    "#輸出錯誤訊息\n",
    "\n",
    "#輸入:\n",
    "#請輸入身高(公分,120-250):\n",
    "#請輸入體重(公斤,30-250):\n",
    "\n",
    "#輸出:\n",
    "#您的BMI是:xxxx\n",
    "\n",
    "# >=120    <250  巢狀判斷  邏輯運算子"
   ]
  },
  {
   "cell_type": "code",
   "execution_count": null,
   "metadata": {},
   "outputs": [],
   "source": [
    "#BMI值計算公式:    BMI = 體重(公斤) / 身高2(公尺2)\n",
    "\n",
    "#檢查輸入的範圍\n",
    "#使用pyinputplus\n",
    "#輸出錯誤訊息\n",
    "\n",
    "#輸入:\n",
    "#請輸入身高(公分,120-250):\n",
    "#請輸入體重(公斤,30-250):\n",
    "\n",
    "#輸出:\n",
    "#您的BMI是:xxxx"
   ]
  }
 ],
 "metadata": {
  "language_info": {
   "name": "python"
  }
 },
 "nbformat": 4,
 "nbformat_minor": 2
}
