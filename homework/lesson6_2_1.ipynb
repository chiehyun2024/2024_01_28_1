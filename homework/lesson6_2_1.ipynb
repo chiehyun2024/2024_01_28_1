{
 "cells": [
  {
   "cell_type": "code",
   "execution_count": 31,
   "metadata": {},
   "outputs": [
    {
     "name": "stdout",
     "output_type": "stream",
     "text": [
      "輸入格式有錯誤\n",
      "身高:157公分\n",
      "輸入格式有錯誤\n",
      "體重:54公斤\n",
      "您的BMI是:21.91\n"
     ]
    }
   ],
   "source": [
    "#BMI值計算公式:    BMI = 體重(公斤) / 身高2(公尺2)\n",
    "\n",
    "#檢查輸入的範圍\n",
    "#try...except...\n",
    "#輸出錯誤訊息\n",
    "\n",
    "#輸入:\n",
    "#請輸入身高(公分,120-250):\n",
    "#請輸入體重(公斤,30-250):\n",
    "\n",
    "#輸出:\n",
    "#您的BMI是:xxxx\n",
    "\n",
    "# >=120    <250  巢狀判斷  邏輯運算子\n",
    "try:\n",
    "    height = eval(input('請輸入身高(公分,120-250):'))\n",
    "    if height >= 120:\n",
    "        if height <= 250:\n",
    "            print('在120-250之間')\n",
    "        else:\n",
    "            print('大於250,不在範圍內')\n",
    "        \n",
    "    else:\n",
    "        print('小於120,不在範圍內')    \n",
    "except:\n",
    "    print('輸入格式有錯誤')\n",
    "print(f'身高:{height:.0f}公分')\n",
    "\n",
    "try:\n",
    "    weight = eval(input('請輸入體重(公斤,30-250):'))\n",
    "    if weight >= 30:\n",
    "        if weight<=250:\n",
    "            print('在30-250之間')\n",
    "        else:\n",
    "            print('大於250,不在範圍內')\n",
    "    else:\n",
    "        print('小於30,不在範圍內')   \n",
    "except:\n",
    "    print('輸入格式有錯誤')\n",
    "print(f'體重:{weight:.0f}公斤')\n",
    "\n",
    "bmi = weight/(height/100)**2\n",
    "print(f'您的BMI是:{bmi:.2f}')\n"
   ]
  },
  {
   "cell_type": "code",
   "execution_count": 10,
   "metadata": {},
   "outputs": [
    {
     "name": "stdout",
     "output_type": "stream",
     "text": [
      "大於250,不在範圍內\n",
      "大於250,不在範圍內\n",
      "您的BMI是:8.91\n",
      "您的體重:體重過輕\n"
     ]
    }
   ],
   "source": [
    "#最終版\n",
    "#您的BMI是:xxxx\n",
    "#您的體重:\n",
    "\n",
    "try:\n",
    "    height = int(input('請輸入身高(公分,120-250):'))\n",
    "    if height >= 120:\n",
    "        if height <= 250:\n",
    "            print(f'身高:{height:.0f}公分')\n",
    "        else:\n",
    "            print('大於250,不在範圍內')\n",
    "    else:\n",
    "        print('小於120,不在範圍內')  \n",
    "\n",
    "    weight = int(input('請輸入體重(公斤,30-250):'))\n",
    "    if weight >= 30:\n",
    "        if weight<=250:\n",
    "            print(f'體重:{weight:.0f}公斤')\n",
    "        else:\n",
    "            print('大於250,不在範圍內')\n",
    "    else:\n",
    "        print('小於30,不在範圍內')   \n",
    "\n",
    "    bmi = weight/(height/100)**2\n",
    "    print(f'您的BMI是:{bmi:.2f}')\n",
    "    if bmi<18.5:\n",
    "        print('您的體重:體重過輕')\n",
    "    elif bmi<24:\n",
    "        print('您的體重:正常')\n",
    "    elif bmi<27:\n",
    "        print('您的體重:過重')\n",
    "    elif bmi<30:\n",
    "        print('您的體重:輕度肥胖')\n",
    "    elif bmi<35:\n",
    "        print('您的體重:中度肥胖')\n",
    "    else:\n",
    "        print('您的體重:重度肥胖')\n",
    "except:\n",
    "    print('輸入格式有錯誤')\n",
    "\n",
    "\n"
   ]
  },
  {
   "cell_type": "code",
   "execution_count": null,
   "metadata": {},
   "outputs": [],
   "source": [
    "#老師正確版\n",
    "try:\n",
    "    height = int(input('請輸入身高(公分,120-250):'))\n",
    "    weight = int(input('請輸入體重(公斤,30-250):'))\n",
    "    if (height >= 120 and height<=250) and (weight >=30 and weight <=250) :\n",
    "        bmi = weight/(height/100)**2\n",
    "        print(f'您的BMI是:{bmi:.2f}')\n",
    "        if bmi<18.5:\n",
    "            print('您的體重:體重過輕')\n",
    "        elif bmi<24:\n",
    "            print('您的體重:正常')\n",
    "        elif bmi<27:\n",
    "            print('您的體重:過重')\n",
    "        elif bmi<30:\n",
    "            print('您的體重:輕度肥胖')\n",
    "        elif bmi<35:\n",
    "            print('您的體重:中度肥胖')\n",
    "        else:\n",
    "            print('您的體重:重度肥胖')\n",
    "    else :\n",
    "        print('身高或體重超出範圍')\n",
    "except:\n",
    "    print('輸入格式有錯誤')"
   ]
  }
 ],
 "metadata": {
  "kernelspec": {
   "display_name": "Python 3",
   "language": "python",
   "name": "python3"
  },
  "language_info": {
   "codemirror_mode": {
    "name": "ipython",
    "version": 3
   },
   "file_extension": ".py",
   "mimetype": "text/x-python",
   "name": "python",
   "nbconvert_exporter": "python",
   "pygments_lexer": "ipython3",
   "version": "3.10.13"
  }
 },
 "nbformat": 4,
 "nbformat_minor": 2
}
