{
 "cells": [
  {
   "cell_type": "code",
   "execution_count": 31,
   "metadata": {},
   "outputs": [
    {
     "name": "stdout",
     "output_type": "stream",
     "text": [
      "在120-250之間\n",
      "身高:155公分\n",
      "在30-250之間\n",
      "體重:46公斤\n",
      "您的BMI是:19.15\n"
     ]
    }
   ],
   "source": [
    "#BMI值計算公式:    BMI = 體重(公斤) / 身高2(公尺2)\n",
    "\n",
    "#檢查輸入的範圍\n",
    "#try...except...\n",
    "#輸出錯誤訊息\n",
    "\n",
    "#輸入:\n",
    "#請輸入身高(公分,120-250):\n",
    "#請輸入體重(公斤,30-250):\n",
    "\n",
    "#輸出:\n",
    "#您的BMI是:xxxx\n",
    "\n",
    "# >=120    <250  巢狀判斷  邏輯運算子\n",
    "try:\n",
    "    height = eval(input('請輸入身高(公分,120-250):'))\n",
    "    if height >= 120:\n",
    "        if height <= 250:\n",
    "            print('在120-250之間')\n",
    "        else:\n",
    "            print('大於250,不在範圍內')\n",
    "        \n",
    "    else:\n",
    "        print('小於120,不在範圍內')    \n",
    "except:\n",
    "    print('輸入格式有錯誤')\n",
    "print(f'身高:{height:.0f}公分')\n",
    "\n",
    "try:\n",
    "    weight = eval(input('請輸入體重(公斤,30-250):'))\n",
    "    if weight >= 30:\n",
    "        if weight<=250:\n",
    "            print('在30-250之間')\n",
    "        else:\n",
    "            print('大於250,不在範圍內')\n",
    "    else:\n",
    "        print('小於30,不在範圍內')   \n",
    "except:\n",
    "    print('輸入格式有錯誤')\n",
    "print(f'體重:{weight:.0f}公斤')\n",
    "\n",
    "bmi = weight/(height/100)**2\n",
    "print(f'您的BMI是:{bmi:.2f}')\n"
   ]
  },
  {
   "cell_type": "code",
   "execution_count": 71,
   "metadata": {},
   "outputs": [
    {
     "name": "stdout",
     "output_type": "stream",
     "text": [
      "大於250,不在範圍內\n",
      "大於250,不在範圍內\n",
      "您的BMI是:16.67\n",
      "您的體重:體重過輕\n"
     ]
    }
   ],
   "source": [
    "#最終版\n",
    "#您的BMI是:xxxx\n",
    "#您的體重:\n",
    "try:\n",
    "    height = eval(input('請輸入身高(公分,120-250):'))\n",
    "    if height >= 120:\n",
    "        if height <= 250:\n",
    "            print('在120-250之間')\n",
    "        else:\n",
    "            print('大於250,不在範圍內')\n",
    "        \n",
    "    else:\n",
    "        print('小於120,不在範圍內')  \n",
    "except:\n",
    "    print('輸入格式有錯誤')\n",
    "try:\n",
    "    weight = eval(input('請輸入體重(公斤,30-250):'))\n",
    "    if weight >= 30:\n",
    "        if weight<=250:\n",
    "            print('在30-250之間')\n",
    "        else:\n",
    "            print('大於250,不在範圍內')\n",
    "    else:\n",
    "        print('小於30,不在範圍內')   \n",
    "except:\n",
    "    print('輸入格式有錯誤')\n",
    "\n",
    "bmi = weight/(height/100)**2\n",
    "print(f'您的BMI是:{bmi:.2f}')\n",
    "if bmi<18.5:\n",
    "    print('您的體重:體重過輕')\n",
    "elif bmi<24:\n",
    "    print('您的體重:正常')\n",
    "elif bmi<27:\n",
    "    print('您的體重:過重')\n",
    "elif bmi<30:\n",
    "    print('您的體重:輕度肥胖')\n",
    "elif bmi<35:\n",
    "    print('您的體重:中度肥胖')\n",
    "else:\n",
    "    print('您的體重:重度肥胖')\n"
   ]
  },
  {
   "cell_type": "code",
   "execution_count": 54,
   "metadata": {},
   "outputs": [
    {
     "name": "stdout",
     "output_type": "stream",
     "text": [
      "身高:155\n",
      "在120-250之間\n",
      "體重:46\n",
      "在30-250之間\n",
      "您的BMI是:19.15\n",
      "您的體重:正常\n"
     ]
    }
   ],
   "source": [
    "#BMI值計算公式:    BMI = 體重(公斤) / 身高2(公尺2)\n",
    "\n",
    "#檢查輸入的範圍\n",
    "#使用pyinputplus\n",
    "#輸出錯誤訊息\n",
    "\n",
    "#輸入:\n",
    "#請輸入身高(公分,120-250):\n",
    "#請輸入體重(公斤,30-250):\n",
    "\n",
    "#輸出:\n",
    "#您的BMI是:xxxx\n",
    "\n",
    "import pyinputplus as pyip\n",
    "\n",
    "height = pyip.inputInt('身高:')\n",
    "print(height)\n",
    "if height >= 120 and height <= 250:\n",
    "    print('在120-250之間')\n",
    "else:\n",
    "    print('不在範圍內') \n",
    "\n",
    "import pyinputplus as pyip\n",
    "\n",
    "weight = pyip.inputInt('體重:')\n",
    "print(weight)\n",
    "if weight >= 30 and weight <= 250:\n",
    "    print('在30-250之間')\n",
    "else:\n",
    "    print('不在範圍內')\n",
    "bmi = weight/(height/100)**2\n",
    "print(f'您的BMI是:{bmi:.2f}')\n",
    "\n",
    "weight = int(input('請輸入體重(公斤,30-250):'))\n",
    "if bmi<18.5:\n",
    "    print('您的體重:體重過輕')\n",
    "elif bmi<24:\n",
    "    print('您的體重:正常')\n",
    "elif bmi<27:\n",
    "    print('您的體重:過重')\n",
    "elif bmi<30:\n",
    "    print('您的體重:輕度肥胖')\n",
    "elif bmi<35:\n",
    "    print('您的體重:中度肥胖')\n",
    "else:\n",
    "    print('您的體重:重度肥胖')\n"
   ]
  },
  {
   "cell_type": "code",
   "execution_count": 57,
   "metadata": {},
   "outputs": [
    {
     "name": "stdout",
     "output_type": "stream",
     "text": [
      "請輸入身高(公分,120-250):155\n",
      "您的BMI是:19.15\n",
      "請輸入體重(公斤,30-250):您的體重:正常\n"
     ]
    }
   ],
   "source": [
    "#您的BMI是:xxxx\n",
    "#您的體重:\n",
    "\n",
    "import pyinputplus as pyip\n",
    "\n",
    "height = pyip.inputInt('請輸入身高(公分,120-250):')\n",
    "print(height)\n",
    "bmi = weight/(height/100)**2\n",
    "print(f'您的BMI是:{bmi:.2f}')\n",
    "weight = pyip.inputInt('請輸入體重(公斤,30-250):')\n",
    "if bmi<18.5:\n",
    "    print('您的體重:體重過輕')\n",
    "elif bmi<24:\n",
    "    print('您的體重:正常')\n",
    "elif bmi<27:\n",
    "    print('您的體重:過重')\n",
    "elif bmi<30:\n",
    "    print('您的體重:輕度肥胖')\n",
    "elif bmi<35:\n",
    "    print('您的體重:中度肥胖')\n",
    "else:\n",
    "    print('您的體重:重度肥胖')\n"
   ]
  }
 ],
 "metadata": {
  "kernelspec": {
   "display_name": "Python 3",
   "language": "python",
   "name": "python3"
  },
  "language_info": {
   "codemirror_mode": {
    "name": "ipython",
    "version": 3
   },
   "file_extension": ".py",
   "mimetype": "text/x-python",
   "name": "python",
   "nbconvert_exporter": "python",
   "pygments_lexer": "ipython3",
   "version": "3.10.13"
  }
 },
 "nbformat": 4,
 "nbformat_minor": 2
}
