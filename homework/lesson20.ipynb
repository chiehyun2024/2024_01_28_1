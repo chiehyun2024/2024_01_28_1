{
 "cells": [
  {
   "cell_type": "code",
   "execution_count": null,
   "metadata": {},
   "outputs": [],
   "source": [
    "#   https://pandas.pydata.org/docs/reference/api/pandas.read_excel.html 說明書read_excel\n"
   ]
  },
  {
   "cell_type": "code",
   "execution_count": 10,
   "metadata": {},
   "outputs": [
    {
     "name": "stdout",
     "output_type": "stream",
     "text": [
      "/workspaces/2024_01_28_1/homework/縣市長/縣表3-1-705(雲林縣).xls\n",
      "/workspaces/2024_01_28_1/homework/縣市長/縣表3-1-704(南投縣).xls\n",
      "/workspaces/2024_01_28_1/homework/縣市長/縣表3-1-714(嘉義市).xls\n",
      "/workspaces/2024_01_28_1/homework/縣市長/縣表3-1-713(新竹市).xls\n",
      "/workspaces/2024_01_28_1/homework/縣市長/縣表3-1-709(花蓮縣).xls\n",
      "/workspaces/2024_01_28_1/homework/縣市長/縣表3-1-802(連江縣).xls\n",
      "/workspaces/2024_01_28_1/homework/縣市長/縣表3-1-708(宜蘭縣).xls\n",
      "/workspaces/2024_01_28_1/homework/縣市長/縣表3-1-801(金門縣).xls\n",
      "/workspaces/2024_01_28_1/homework/縣市長/縣表3-1-712(基隆市).xls\n",
      "/workspaces/2024_01_28_1/homework/縣市長/縣表3-1-702(苗栗縣).xls\n",
      "/workspaces/2024_01_28_1/homework/縣市長/縣表3-1-706(嘉義縣).xls\n",
      "/workspaces/2024_01_28_1/homework/縣市長/縣表3-1-711(澎湖縣).xls\n",
      "/workspaces/2024_01_28_1/homework/縣市長/縣表3-1-703(彰化縣).xls\n",
      "/workspaces/2024_01_28_1/homework/縣市長/縣表3-1-701(新竹縣).xls\n",
      "/workspaces/2024_01_28_1/homework/縣市長/縣表3-1-710(臺東縣).xls\n",
      "/workspaces/2024_01_28_1/homework/縣市長/縣表3-1-707(屏東縣).xls\n"
     ]
    }
   ],
   "source": [
    "import os\n",
    "file_names:list[str] = os.listdir('縣市長')\n",
    "abs_paths:list[str] = []\n",
    "for name in file_names:\n",
    "    if '縣表' in name :\n",
    "        print(os.path.abspath(f'縣市長/{name}'))           #取得檔案絕對路徑\n",
    "        abs_paths.append(os.path.abspath(f'縣市長/{name}'))"
   ]
  },
  {
   "cell_type": "code",
   "execution_count": null,
   "metadata": {},
   "outputs": [],
   "source": [
    "#下載xlrd\n",
    "import pandas as pd\n",
    "for path in abs_paths:\n",
    "    display(pd.read_excel(path))"
   ]
  }
 ],
 "metadata": {
  "kernelspec": {
   "display_name": "Python 3",
   "language": "python",
   "name": "python3"
  },
  "language_info": {
   "codemirror_mode": {
    "name": "ipython",
    "version": 3
   },
   "file_extension": ".py",
   "mimetype": "text/x-python",
   "name": "python",
   "nbconvert_exporter": "python",
   "pygments_lexer": "ipython3",
   "version": "3.10.13"
  }
 },
 "nbformat": 4,
 "nbformat_minor": 2
}
