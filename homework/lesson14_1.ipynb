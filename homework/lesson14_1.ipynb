{
 "cells": [
  {
   "cell_type": "code",
   "execution_count": null,
   "metadata": {},
   "outputs": [],
   "source": [
    "# https://raw.githubusercontent.com/roberthsu2003/python/master/pydantic/%E5%AD%B8%E7%94%9F%E5%88%86%E6%95%B8.csv\n",
    "#抓科目1-5\n",
    "#轉成新學生分數.csv\n",
    "#轉成新學生分數.json"
   ]
  },
  {
   "cell_type": "code",
   "execution_count": 2,
   "metadata": {},
   "outputs": [
    {
     "name": "stdout",
     "output_type": "stream",
     "text": [
      "下載成功\n",
      "生成csv檔\n",
      "生成json檔\n"
     ]
    }
   ],
   "source": [
    "import requests\n",
    "from pydantic import BaseModel,Field,RootModel\n",
    "import io\n",
    "import csv\n",
    "\n",
    "csv_url = 'https://raw.githubusercontent.com/roberthsu2003/python/master/pydantic/%E5%AD%B8%E7%94%9F%E5%88%86%E6%95%B8.csv'\n",
    "res = requests.get(url=csv_url)\n",
    "if res.ok:\n",
    "    print('下載成功')\n",
    "else:\n",
    "    print('下載失敗')\n",
    "\n",
    "class Scores(BaseModel):\n",
    "    姓名:str\n",
    "    國文:int = Field(alias='科目1')\n",
    "    英文:int = Field(alias='科目2')\n",
    "    數學:int = Field(alias='科目3')\n",
    "    地理:int = Field(alias='科目4')\n",
    "    歷史:int = Field(alias='科目5')\n",
    "  \n",
    "class Student(RootModel):\n",
    "    root:list[Scores]\n",
    "\n",
    "    def __iter__(self):\n",
    "        return iter(self.root)\n",
    "\n",
    "    def __getitem__(self, item):\n",
    "        return self.root[item]\n",
    "    \n",
    "csv_url:str = res.text\n",
    "csv_file = io.StringIO(csv_url)\n",
    "dict_reader = csv.DictReader(csv_file)\n",
    "csv_data = list(dict_reader)\n",
    "\n",
    "csv_root = Student.model_validate(csv_data)\n",
    "json_str = csv_root.model_dump_json()\n",
    "\n",
    "with open('新學生分數.csv',mode='w',encoding='utf-8',newline='') as file:\n",
    "    dict_writer = csv.DictWriter(file,fieldnames=list(Scores.model_fields.keys()))\n",
    "    dict_writer.writeheader()\n",
    "    for site in csv_root:\n",
    "        dict_writer.writerow(site.model_dump())\n",
    "print('生成csv檔')       \n",
    "\n",
    "with open('新學生資料.json',mode='w',encoding='utf8') as jsonFile:\n",
    "    jsonFile.write(json_str)\n",
    "print('生成json檔')"
   ]
  }
 ],
 "metadata": {
  "kernelspec": {
   "display_name": "Python 3",
   "language": "python",
   "name": "python3"
  },
  "language_info": {
   "codemirror_mode": {
    "name": "ipython",
    "version": 3
   },
   "file_extension": ".py",
   "mimetype": "text/x-python",
   "name": "python",
   "nbconvert_exporter": "python",
   "pygments_lexer": "ipython3",
   "version": "3.10.13"
  }
 },
 "nbformat": 4,
 "nbformat_minor": 2
}
