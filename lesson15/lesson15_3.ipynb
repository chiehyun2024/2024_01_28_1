{
 "cells": [
  {
   "cell_type": "code",
   "execution_count": 2,
   "metadata": {},
   "outputs": [
    {
     "data": {
      "text/plain": [
       "66"
      ]
     },
     "execution_count": 2,
     "metadata": {},
     "output_type": "execute_result"
    }
   ],
   "source": [
    "import random\n",
    "random.randint(50,100)"
   ]
  },
  {
   "cell_type": "code",
   "execution_count": 6,
   "metadata": {},
   "outputs": [
    {
     "data": {
      "text/plain": [
       "array([[ 81,  53,  60,  97, 100],\n",
       "       [ 52,  70,  80,  53,  77],\n",
       "       [ 57,  88,  57,  90,  50],\n",
       "       [ 87,  57,  54,  80,  69],\n",
       "       [ 79,  69,  89,  80,  63],\n",
       "       [ 99,  68,  76,  52,  59],\n",
       "       [ 62,  78,  69,  70,  76],\n",
       "       [ 79,  90,  95,  88,  88],\n",
       "       [ 57,  88,  61,  91,  61],\n",
       "       [ 71,  93,  68,  59,  95],\n",
       "       [ 56,  84,  81,  62,  54],\n",
       "       [ 59,  77,  58,  98,  63],\n",
       "       [ 98,  95,  83,  74,  62],\n",
       "       [ 66,  61,  87,  91,  74],\n",
       "       [ 95,  55,  69,  88,  66],\n",
       "       [ 94,  95,  50,  57,  62],\n",
       "       [ 60,  66,  85,  61,  80],\n",
       "       [ 81,  61,  97,  75,  77],\n",
       "       [ 98,  58,  77,  92,  80],\n",
       "       [ 70,  80,  79,  87,  50],\n",
       "       [ 92,  51,  91,  71,  55],\n",
       "       [ 87,  85,  58,  95,  57],\n",
       "       [ 96,  58,  85,  52,  57],\n",
       "       [ 55,  98,  90, 100,  83],\n",
       "       [ 51,  61,  57,  72,  71],\n",
       "       [ 51,  58,  51,  75,  96],\n",
       "       [ 91,  56,  89,  93,  52],\n",
       "       [ 91,  91,  96,  63,  77],\n",
       "       [ 69,  79,  51,  70,  56],\n",
       "       [ 75,  62,  97,  83,  74],\n",
       "       [ 67,  97,  91,  87, 100],\n",
       "       [100,  58,  91,  70,  99],\n",
       "       [ 58,  99,  94,  58,  71],\n",
       "       [ 50,  63,  50,  73,  80],\n",
       "       [ 73,  91,  81,  88,  84],\n",
       "       [ 74,  97,  62,  92,  90],\n",
       "       [ 82,  51,  97,  54,  87],\n",
       "       [ 56,  85,  70,  88,  62],\n",
       "       [ 68,  91,  74,  72,  78],\n",
       "       [ 89,  67,  60,  88,  99],\n",
       "       [ 68,  94,  56,  65,  66],\n",
       "       [ 51,  53,  60,  97,  60],\n",
       "       [ 69,  51,  95,  60,  57],\n",
       "       [ 84,  98,  60,  93,  71],\n",
       "       [ 92,  76,  70,  50,  68],\n",
       "       [ 54,  52,  94,  86,  89],\n",
       "       [ 56,  99,  86,  76,  52],\n",
       "       [ 92,  57,  66,  94,  51],\n",
       "       [ 62,  64,  51,  68,  97],\n",
       "       [ 80,  72,  50,  96,  57]])"
      ]
     },
     "execution_count": 6,
     "metadata": {},
     "output_type": "execute_result"
    }
   ],
   "source": [
    "import numpy as np\n",
    "#建立50個學生,5個分數\n",
    "scores = np.random.randint(50,101,size=(50,5))\n",
    "scores"
   ]
  },
  {
   "cell_type": "code",
   "execution_count": 7,
   "metadata": {},
   "outputs": [
    {
     "data": {
      "text/plain": [
       "array([ 81,  53,  60,  97, 100])"
      ]
     },
     "execution_count": 7,
     "metadata": {},
     "output_type": "execute_result"
    }
   ],
   "source": [
    "#抓1個人分數\n",
    "scores[0]"
   ]
  },
  {
   "cell_type": "code",
   "execution_count": 8,
   "metadata": {},
   "outputs": [
    {
     "data": {
      "text/plain": [
       "array([[ 81,  53,  60,  97, 100],\n",
       "       [ 52,  70,  80,  53,  77],\n",
       "       [ 57,  88,  57,  90,  50]])"
      ]
     },
     "execution_count": 8,
     "metadata": {},
     "output_type": "execute_result"
    }
   ],
   "source": [
    "#抓3個人分數\n",
    "scores[0:3]"
   ]
  },
  {
   "cell_type": "code",
   "execution_count": 10,
   "metadata": {},
   "outputs": [
    {
     "data": {
      "text/plain": [
       "array([81, 52, 57, 87, 79, 99, 62, 79, 57, 71, 56, 59, 98, 66, 95, 94, 60,\n",
       "       81, 98, 70, 92, 87, 96, 55, 51, 51, 91, 91, 69, 75])"
      ]
     },
     "execution_count": 10,
     "metadata": {},
     "output_type": "execute_result"
    }
   ],
   "source": [
    "#抓每個人第一個分數\n",
    "scores[0:30,0]"
   ]
  }
 ],
 "metadata": {
  "kernelspec": {
   "display_name": "Python 3",
   "language": "python",
   "name": "python3"
  },
  "language_info": {
   "codemirror_mode": {
    "name": "ipython",
    "version": 3
   },
   "file_extension": ".py",
   "mimetype": "text/x-python",
   "name": "python",
   "nbconvert_exporter": "python",
   "pygments_lexer": "ipython3",
   "version": "3.10.13"
  }
 },
 "nbformat": 4,
 "nbformat_minor": 2
}
