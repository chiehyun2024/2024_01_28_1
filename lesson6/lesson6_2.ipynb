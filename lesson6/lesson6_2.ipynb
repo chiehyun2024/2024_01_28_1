{
 "cells": [
  {
   "cell_type": "code",
   "execution_count": null,
   "metadata": {},
   "outputs": [],
   "source": [
    "#學生總分為300\n",
    "#檢查學生總分格式是否錯誤\n",
    "#檢查學生分數是否>300分\n",
    "#有些學生可以加5%\n",
    "#如果加分超過300分,以300分為主\n",
    "\n",
    "#檢查格式是否有錯誤\n",
    "#try...except\n",
    "#try...except..else\n",
    "try:\n",
    "    scores:float = eval(input('請輸入學生分數(最高300分):'))\n",
    "    if scores <= 300 :\n",
    "        is_add:str = input('學生是否符合加分條件?(y,n):')\n",
    "        if is_add == 'y':\n",
    "            scores *= 1.05\n",
    "            if scores > 300:\n",
    "                scores = 300    \n",
    "\n",
    "        print(f'學生總分為{scores:.0f}')\n",
    "    else:\n",
    "        print('學生分數不可以大於300')\n",
    "\n",
    "except:\n",
    "    print('輸入格式有錯誤')\n",
    "   \n",
    "print('程式結束')"
   ]
  },
  {
   "cell_type": "code",
   "execution_count": 4,
   "metadata": {},
   "outputs": [
    {
     "name": "stdout",
     "output_type": "stream",
     "text": [
      "請輸入學生分數(最高300分):290\n",
      "請問是否符合加分條件(請選擇1或2)\n",
      "1. 是\n",
      "2. 否\n",
      "學生總分為300\n"
     ]
    }
   ],
   "source": [
    "# \\n 換行的意思\n",
    "#使用import pyinputplus as pyip 外部程式\n",
    "\n",
    "import pyinputplus as pyip\n",
    "\n",
    "scores:float=pyip.inputInt('請輸入學生分數(最高300分):',min=0,max=300)\n",
    "print(scores)\n",
    "is_add:str = pyip.inputMenu(['是','否'],\n",
    "               prompt='請問是否符合加分條件(請選擇1或2)\\n',\n",
    "               numbered=True)\n",
    "if  is_add == '是':\n",
    "    scores *= 1.05\n",
    "    if  scores > 300:\n",
    "         scores = 300 \n",
    "print(f'學生分數為{scores:.0f}')"
   ]
  }
 ],
 "metadata": {
  "kernelspec": {
   "display_name": "Python 3",
   "language": "python",
   "name": "python3"
  },
  "language_info": {
   "codemirror_mode": {
    "name": "ipython",
    "version": 3
   },
   "file_extension": ".py",
   "mimetype": "text/x-python",
   "name": "python",
   "nbconvert_exporter": "python",
   "pygments_lexer": "ipython3",
   "version": "3.10.13"
  }
 },
 "nbformat": 4,
 "nbformat_minor": 2
}
