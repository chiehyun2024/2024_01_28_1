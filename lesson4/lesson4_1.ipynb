{
 "cells": [
  {
   "cell_type": "code",
   "execution_count": 1,
   "metadata": {},
   "outputs": [
    {
     "data": {
      "text/plain": [
       "0.5"
      ]
     },
     "execution_count": 1,
     "metadata": {},
     "output_type": "execute_result"
    }
   ],
   "source": [
    "#計算直角三角形的角度 sin(x)=對邊/斜邊  x是弧度  x=asin(對邊/斜邊)\n",
    "\n",
    "side1 = eval(input('請輸入直角三角形的斜邊'))\n",
    "side2 = eval(input('請輸入直角三角形的對邊'))\n",
    "\n",
    "side2 / side1"
   ]
  },
  {
   "cell_type": "code",
   "execution_count": 4,
   "metadata": {},
   "outputs": [
    {
     "name": "stdout",
     "output_type": "stream",
     "text": [
      "斜邊:50,對邊:25\n",
      "角角度是30.0\n"
     ]
    }
   ],
   "source": [
    "#使用內建函數  一定要打import math\n",
    "import math\n",
    "side1 = eval(input('請輸入直角三角形的斜邊'))\n",
    "side2 = eval(input('請輸入直角三角形的對邊'))\n",
    "\n",
    "#轉換角度\n",
    "radian = math.asin(side2 / side1)\n",
    "degree = math.degrees(radian)\n",
    "\n",
    "print(f'斜邊:{side1},對邊:{side2}')\n",
    "print(f'角角度是{degree:.1f}')"
   ]
  },
  {
   "cell_type": "code",
   "execution_count": 16,
   "metadata": {},
   "outputs": [
    {
     "name": "stdout",
     "output_type": "stream",
     "text": [
      "1,3,5,7,9,11的平均是24.125\n",
      "1,3,5,7,9,11的中間值是8.0\n",
      "1,3,5,7,9,11的中間值是35.61475416573466\n"
     ]
    }
   ],
   "source": [
    "import statistics\n",
    "#[1,3,5,7,9,11,57,100]\n",
    "#平均\n",
    "#中間數\n",
    "#標準差\n",
    "\n",
    "mean_value = statistics.mean([1,3,5,7,9,11,57,100])\n",
    "print(f'1,3,5,7,9,11的平均是{mean_value}')\n",
    "\n",
    "median_value = statistics.median([1,3,5,7,9,11,57,100])\n",
    "print(f'1,3,5,7,9,11的中間值是{median_value}')\n",
    "\n",
    "std_value = statistics.stdev([1,3,5,7,9,11,57,100])\n",
    "print(f'1,3,5,7,9,11的中間值是{std_value}')\n",
    "\n"
   ]
  },
  {
   "cell_type": "code",
   "execution_count": 17,
   "metadata": {},
   "outputs": [
    {
     "data": {
      "text/plain": [
       "10"
      ]
     },
     "execution_count": 17,
     "metadata": {},
     "output_type": "execute_result"
    }
   ],
   "source": [
    "n = 5\n",
    "n = n + 5\n",
    "n"
   ]
  },
  {
   "cell_type": "code",
   "execution_count": 18,
   "metadata": {},
   "outputs": [
    {
     "data": {
      "text/plain": [
       "5"
      ]
     },
     "execution_count": 18,
     "metadata": {},
     "output_type": "execute_result"
    }
   ],
   "source": [
    "x = 5\n",
    "x + 5\n",
    "x"
   ]
  }
 ],
 "metadata": {
  "kernelspec": {
   "display_name": "Python 3",
   "language": "python",
   "name": "python3"
  },
  "language_info": {
   "codemirror_mode": {
    "name": "ipython",
    "version": 3
   },
   "file_extension": ".py",
   "mimetype": "text/x-python",
   "name": "python",
   "nbconvert_exporter": "python",
   "pygments_lexer": "ipython3",
   "version": "3.10.13"
  }
 },
 "nbformat": 4,
 "nbformat_minor": 2
}
