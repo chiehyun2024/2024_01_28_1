{
 "cells": [
  {
   "cell_type": "code",
   "execution_count": null,
   "metadata": {},
   "outputs": [],
   "source": [
    "#BMI值計算公式:    BMI = 體重(公斤) / 身高2(公尺2)\n",
    "\n",
    "height =eval(input(\"請輸入身高(公分):\"))\n",
    "weight =eval(input(\"請輸入公斤(公斤):\"))\n",
    "bmi = weight / (height/100) ** 2\n",
    "#利用字串插補\n",
    "print(f'你的身高:{height}公分')\n",
    "print(f'你的體重:{weight}公斤')\n",
    "print(f'你的bmi:{round(bmi,ndigits=3)}')"
   ]
  },
  {
   "cell_type": "code",
   "execution_count": 3,
   "metadata": {},
   "outputs": [
    {
     "name": "stdout",
     "output_type": "stream",
     "text": [
      "梯形的上底:2公分\n",
      "梯形的下底:2公分\n",
      "梯形的高:2公分\n",
      "梯形的面積:4.00平方公分\n"
     ]
    }
   ],
   "source": [
    "#使用者輸入梯形的上底、下底及高，程式會計算梯形的面積(上底加下底乘以高除以2)\n",
    "\n",
    "up = eval(input('請輸入梯形的上底'))\n",
    "down = eval(input('請輸入梯形的下底'))\n",
    "height = eval(input('請輸入梯形的高'))\n",
    "area = (up+down) * height / 2\n",
    "print(f'梯形的上底:{up}公分')\n",
    "print(f'梯形的下底:{down}公分')\n",
    "print(f'梯形的高:{down}公分')\n",
    "print(f'梯形的面積:{area:.2f}平方公分')"
   ]
  }
 ],
 "metadata": {
  "kernelspec": {
   "display_name": "Python 3",
   "language": "python",
   "name": "python3"
  },
  "language_info": {
   "codemirror_mode": {
    "name": "ipython",
    "version": 3
   },
   "file_extension": ".py",
   "mimetype": "text/x-python",
   "name": "python",
   "nbconvert_exporter": "python",
   "pygments_lexer": "ipython3",
   "version": "3.10.13"
  }
 },
 "nbformat": 4,
 "nbformat_minor": 2
}
