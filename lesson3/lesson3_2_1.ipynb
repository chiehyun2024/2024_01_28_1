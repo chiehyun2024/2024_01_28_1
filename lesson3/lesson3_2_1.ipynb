{
 "cells": [
  {
   "cell_type": "code",
   "execution_count": null,
   "metadata": {},
   "outputs": [],
   "source": [
    "#BMI值計算公式:    BMI = 體重(公斤) / 身高2(公尺2)\n",
    "\n",
    "height =eval(input(\"請輸入身高(公分):\"))\n",
    "weight =eval(input(\"請輸入公斤(公斤):\"))\n",
    "bmi = weight / (height/100) ** 2\n",
    "#利用字串插補\n",
    "print(f'你的身高:{height}公分')\n",
    "print(f'你的體重:{weight}公斤')\n",
    "print(f'你的bmi:{round(bmi,ndigits=3)}')"
   ]
  },
  {
   "cell_type": "code",
   "execution_count": null,
   "metadata": {},
   "outputs": [],
   "source": []
  }
 ],
 "metadata": {
  "language_info": {
   "name": "python"
  }
 },
 "nbformat": 4,
 "nbformat_minor": 2
}
