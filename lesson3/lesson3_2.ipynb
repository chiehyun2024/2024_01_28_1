{
 "cells": [
  {
   "cell_type": "code",
   "execution_count": 4,
   "metadata": {},
   "outputs": [
    {
     "name": "stdout",
     "output_type": "stream",
     "text": [
      "你的身高:157公分\n",
      "你的體重:52公斤\n",
      "你的bmi:21.096190514828187\n"
     ]
    }
   ],
   "source": [
    "#BMI值計算公式:    BMI = 體重(公斤) / 身高2(公尺2)\n",
    "\n",
    "height =eval(input(\"請輸入身高(公分):\"))\n",
    "weight =eval(input(\"請輸入公斤(公斤):\"))\n",
    "bmi = weight / (height/100) ** 2\n",
    "print('你的身高:',height,'公分',sep='')\n",
    "print('你的體重:',weight,'公斤',sep='')\n",
    "print('你的bmi:',bmi,sep='')"
   ]
  },
  {
   "cell_type": "code",
   "execution_count": 11,
   "metadata": {},
   "outputs": [
    {
     "data": {
      "text/plain": [
       "21.096"
      ]
     },
     "execution_count": 11,
     "metadata": {},
     "output_type": "execute_result"
    }
   ],
   "source": [
    "# round(數值,ndigits=none)\n",
    "# ndigits 為要小數點後幾位 \n",
    "\n",
    "num1 = 21.096190514828187\n",
    "\n",
    "round(num1,ndigits=3)"
   ]
  },
  {
   "cell_type": "code",
   "execution_count": 9,
   "metadata": {},
   "outputs": [
    {
     "name": "stdout",
     "output_type": "stream",
     "text": [
      "你的身高:157公分\n",
      "你的體重:52公斤\n",
      "你的bmi:21.096\n"
     ]
    }
   ],
   "source": [
    " #BMI不要小數點\n",
    "\n",
    "height =eval(input(\"請輸入身高(公分):\"))\n",
    "weight =eval(input(\"請輸入公斤(公斤):\"))\n",
    "bmi = weight / (height/100) ** 2\n",
    "print('你的身高:',height,'公分',sep='')\n",
    "print('你的體重:',weight,'公斤',sep='')\n",
    "print('你的bmi:',round(bmi,ndigits=3),sep='')"
   ]
  },
  {
   "cell_type": "code",
   "execution_count": 2,
   "metadata": {},
   "outputs": [
    {
     "data": {
      "text/plain": [
       "'你的身高:157公分'"
      ]
     },
     "execution_count": 2,
     "metadata": {},
     "output_type": "execute_result"
    }
   ],
   "source": [
    "# 字串插補(字串格式化)\n",
    "height=157\n",
    "#字串和變數整合成為全新的字串\n",
    "f'你的身高:{height}公分'"
   ]
  },
  {
   "cell_type": "code",
   "execution_count": 15,
   "metadata": {},
   "outputs": [
    {
     "name": "stdout",
     "output_type": "stream",
     "text": [
      "你的身高:157公分\n",
      "你的體重:52公斤\n",
      "你的bmi:21.096\n"
     ]
    }
   ],
   "source": [
    "#BMI值計算公式:    BMI = 體重(公斤) / 身高2(公尺2)\n",
    "\n",
    "height =eval(input(\"請輸入身高(公分):\"))\n",
    "weight =eval(input(\"請輸入公斤(公斤):\"))\n",
    "bmi = weight / (height/100) ** 2\n",
    "#利用字串插補\n",
    "print(f'你的身高:{height}公分')\n",
    "print(f'你的體重:{weight}公斤')\n",
    "print(f'你的bmi:{round(bmi,ndigits=3)}')"
   ]
  },
  {
   "cell_type": "code",
   "execution_count": 16,
   "metadata": {},
   "outputs": [
    {
     "name": "stdout",
     "output_type": "stream",
     "text": [
      "你的身高:157公分\n",
      "你的體重:52公斤\n",
      "你的bmi:21.10\n"
     ]
    }
   ],
   "source": [
    "#BMI值計算公式:    BMI = 體重(公斤) / 身高2(公尺2)\n",
    "\n",
    "height =eval(input(\"請輸入身高(公分):\"))\n",
    "weight =eval(input(\"請輸入公斤(公斤):\"))\n",
    "bmi = weight / (height/100) ** 2\n",
    "#利用字串插補\n",
    "print(f'你的身高:{height}公分')\n",
    "print(f'你的體重:{weight}公斤')\n",
    "#字串格式化的格式化文字語法 \n",
    "print(f'你的bmi:{bmi:.2f}')"
   ]
  },
  {
   "cell_type": "code",
   "execution_count": null,
   "metadata": {},
   "outputs": [],
   "source": [
    "#計算直角三角形的角度 sin(x)=對邊/斜邊  x是弧度\n",
    "\n",
    "side1 = eval(input('請輸入直角三角形的斜邊'))\n",
    "side2 = eval(input('請輸入直角三角形的對邊'))"
   ]
  }
 ],
 "metadata": {
  "kernelspec": {
   "display_name": "Python 3",
   "language": "python",
   "name": "python3"
  },
  "language_info": {
   "codemirror_mode": {
    "name": "ipython",
    "version": 3
   },
   "file_extension": ".py",
   "mimetype": "text/x-python",
   "name": "python",
   "nbconvert_exporter": "python",
   "pygments_lexer": "ipython3",
   "version": "3.10.13"
  }
 },
 "nbformat": 4,
 "nbformat_minor": 2
}
