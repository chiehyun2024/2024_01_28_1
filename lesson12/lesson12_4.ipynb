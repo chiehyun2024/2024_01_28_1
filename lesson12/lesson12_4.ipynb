{
 "cells": [
  {
   "cell_type": "code",
   "execution_count": 2,
   "metadata": {},
   "outputs": [],
   "source": [
    "with open('names.txt',encoding='utf-8') as file:\n",
    "    names_str:str = file.read()\n",
    "names:list[str] = names_str.split(sep='\\n')"
   ]
  },
  {
   "cell_type": "code",
   "execution_count": 3,
   "metadata": {},
   "outputs": [
    {
     "data": {
      "text/plain": [
       "299"
      ]
     },
     "execution_count": 3,
     "metadata": {},
     "output_type": "execute_result"
    }
   ],
   "source": [
    "#查有幾筆使用內建len\n",
    "len(names)"
   ]
  },
  {
   "cell_type": "code",
   "execution_count": 7,
   "metadata": {},
   "outputs": [
    {
     "data": {
      "text/plain": [
       "['王柏聖', '簡佳樺']"
      ]
     },
     "execution_count": 7,
     "metadata": {},
     "output_type": "execute_result"
    }
   ],
   "source": [
    "import random\n",
    "\n",
    "num = 2\n",
    "randomNames:list[str] = random.choices(names,k=num)\n",
    "randomNames"
   ]
  },
  {
   "cell_type": "code",
   "execution_count": 5,
   "metadata": {},
   "outputs": [
    {
     "data": {
      "text/plain": [
       "Person(name='張婕筠', height=192, weight=61)"
      ]
     },
     "execution_count": 5,
     "metadata": {},
     "output_type": "execute_result"
    }
   ],
   "source": [
    "from pydantic import BaseModel\n",
    "from random import randint\n",
    "class Person(BaseModel):\n",
    "    name:str\n",
    "    height:int\n",
    "    weight:int\n",
    "\n",
    "#實體 -> dict\n",
    "p1 = Person(name='張婕筠',height=randint(150,195),weight=randint(50,110))\n",
    "p1.model_dump()\n",
    "\n",
    "#dict -> 實體\n",
    "p2 = Person.model_validate({'name':'張婕筠',\n",
    "                       'height':randint(150,195),\n",
    "                       'weight':randint(50,110)})\n",
    "p2"
   ]
  },
  {
   "cell_type": "code",
   "execution_count": 6,
   "metadata": {},
   "outputs": [
    {
     "data": {
      "text/plain": [
       "[Person(name='陳筱涵', height=168, weight=87),\n",
       " Person(name='張慧君', height=167, weight=97),\n",
       " Person(name='羅佩樺', height=193, weight=104),\n",
       " Person(name='張嘉韋', height=170, weight=60),\n",
       " Person(name='胡淑貞', height=178, weight=89),\n",
       " Person(name='崔孝憲', height=182, weight=108),\n",
       " Person(name='吳欣書', height=180, weight=70),\n",
       " Person(name='楊火帆', height=155, weight=56),\n",
       " Person(name='林向鈺', height=194, weight=62),\n",
       " Person(name='蔡欣汝', height=182, weight=63),\n",
       " Person(name='賴又琦', height=172, weight=92),\n",
       " Person(name='郭淑枝', height=194, weight=85),\n",
       " Person(name='陳俊憲', height=194, weight=109),\n",
       " Person(name='程玫靖', height=186, weight=105),\n",
       " Person(name='艾巧夫', height=187, weight=69),\n",
       " Person(name='朱惠儀', height=185, weight=94),\n",
       " Person(name='吳晴洋', height=187, weight=105),\n",
       " Person(name='謝水儒', height=184, weight=95),\n",
       " Person(name='陳孝邦', height=179, weight=59),\n",
       " Person(name='吳志宣', height=154, weight=59),\n",
       " Person(name='黃佩芬', height=166, weight=84),\n",
       " Person(name='朱士弘', height=186, weight=59),\n",
       " Person(name='賴又琦', height=161, weight=54),\n",
       " Person(name='簡佳樺', height=188, weight=77),\n",
       " Person(name='藍哲嘉', height=170, weight=102),\n",
       " Person(name='陳彥治', height=189, weight=94),\n",
       " Person(name='郭坤花', height=194, weight=58),\n",
       " Person(name='柯宜臻', height=172, weight=55),\n",
       " Person(name='黃江旭', height=168, weight=106),\n",
       " Person(name='余丞苓', height=191, weight=79),\n",
       " Person(name='黃婷婷', height=167, weight=78),\n",
       " Person(name='馮淑芬', height=168, weight=87),\n",
       " Person(name='李美洋', height=172, weight=63),\n",
       " Person(name='陳文賢', height=167, weight=56),\n",
       " Person(name='林益妏', height=158, weight=58),\n",
       " Person(name='張慧君', height=159, weight=100),\n",
       " Person(name='陳慧君', height=191, weight=64),\n",
       " Person(name='張慧君', height=156, weight=87),\n",
       " Person(name='林珍旺', height=176, weight=65),\n",
       " Person(name='陳淑娟', height=163, weight=67),\n",
       " Person(name='陳家維', height=157, weight=80),\n",
       " Person(name='林建勳', height=188, weight=55),\n",
       " Person(name='劉林中', height=157, weight=79),\n",
       " Person(name='崔孝憲', height=177, weight=109),\n",
       " Person(name='蔡嘉音', height=175, weight=53),\n",
       " Person(name='林世城', height=171, weight=94),\n",
       " Person(name='趙家豪', height=165, weight=101),\n",
       " Person(name='林淑安', height=184, weight=69),\n",
       " Person(name='陳建豪', height=182, weight=57),\n",
       " Person(name='王怡君', height=160, weight=105)]"
      ]
     },
     "execution_count": 6,
     "metadata": {},
     "output_type": "execute_result"
    }
   ],
   "source": [
    "persons:list[Person] = []\n",
    "for name in randomNames:\n",
    "    person = Person(name=name,\n",
    "           height=randint(150,195),\n",
    "           weight=randint(50,110))\n",
    "    persons.append(person)\n",
    "persons"
   ]
  },
  {
   "cell_type": "code",
   "execution_count": null,
   "metadata": {},
   "outputs": [],
   "source": []
  }
 ],
 "metadata": {
  "kernelspec": {
   "display_name": "Python 3",
   "language": "python",
   "name": "python3"
  },
  "language_info": {
   "codemirror_mode": {
    "name": "ipython",
    "version": 3
   },
   "file_extension": ".py",
   "mimetype": "text/x-python",
   "name": "python",
   "nbconvert_exporter": "python",
   "pygments_lexer": "ipython3",
   "version": "3.10.13"
  }
 },
 "nbformat": 4,
 "nbformat_minor": 2
}
