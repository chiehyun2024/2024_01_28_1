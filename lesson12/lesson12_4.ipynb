{
 "cells": [
  {
   "cell_type": "code",
   "execution_count": 5,
   "metadata": {},
   "outputs": [],
   "source": [
    "with open('names.txt',encoding='utf-8') as file:\n",
    "    names_str:str = file.read()\n",
    "names:list[str] = names_str.split(sep='\\n')"
   ]
  },
  {
   "cell_type": "code",
   "execution_count": 7,
   "metadata": {},
   "outputs": [
    {
     "data": {
      "text/plain": [
       "299"
      ]
     },
     "execution_count": 7,
     "metadata": {},
     "output_type": "execute_result"
    }
   ],
   "source": [
    "#查有幾筆使用內建len\n",
    "len(names)"
   ]
  },
  {
   "cell_type": "code",
   "execution_count": null,
   "metadata": {},
   "outputs": [],
   "source": [
    "import random\n",
    "\n",
    "num = 50\n",
    "randomNames:list[str] = random.choices(names,k=num)\n",
    "randomNames"
   ]
  },
  {
   "cell_type": "code",
   "execution_count": 13,
   "metadata": {},
   "outputs": [
    {
     "data": {
      "text/plain": [
       "Person(name='張婕筠', height=159, weight=87)"
      ]
     },
     "execution_count": 13,
     "metadata": {},
     "output_type": "execute_result"
    }
   ],
   "source": [
    "from pydantic import BaseModel\n",
    "from random import randint\n",
    "class Person(BaseModel):\n",
    "    name:str\n",
    "    height:int\n",
    "    weight:int\n",
    "\n",
    "#實體 -> dict\n",
    "p1 = Person(name='張婕筠',height=randint(150,195),weight=randint(50,110))\n",
    "p1.model_dump()\n",
    "\n",
    "#dict -> 實體\n",
    "p2 = Person.model_validate({'name':'張婕筠',\n",
    "                       'height':randint(150,195),\n",
    "                       'weight':randint(50,110)})\n",
    "p2"
   ]
  },
  {
   "cell_type": "code",
   "execution_count": 22,
   "metadata": {},
   "outputs": [
    {
     "data": {
      "text/plain": [
       "[Person(name='黃靜怡', height=178, weight=51),\n",
       " Person(name='溫法堯', height=157, weight=95),\n",
       " Person(name='張牧聿', height=152, weight=66),\n",
       " Person(name='吳柏誠', height=160, weight=81),\n",
       " Person(name='黃靜怡', height=166, weight=67),\n",
       " Person(name='陳向愛', height=151, weight=62),\n",
       " Person(name='陳彥治', height=185, weight=64),\n",
       " Person(name='陳樂紫', height=172, weight=96),\n",
       " Person(name='王坤安', height=165, weight=93),\n",
       " Person(name='艾巧夫', height=177, weight=92),\n",
       " Person(name='高俊男', height=172, weight=72),\n",
       " Person(name='朱士弘', height=179, weight=86),\n",
       " Person(name='李慶亮', height=181, weight=90),\n",
       " Person(name='王展人', height=170, weight=63),\n",
       " Person(name='林益妏', height=184, weight=101),\n",
       " Person(name='楊又源', height=170, weight=59),\n",
       " Person(name='蘇凡菁', height=151, weight=84),\n",
       " Person(name='陳得映', height=191, weight=104),\n",
       " Person(name='林冠蕙', height=170, weight=51),\n",
       " Person(name='陳逸華', height=195, weight=59),\n",
       " Person(name='景歡燦', height=168, weight=110),\n",
       " Person(name='陳志偉', height=169, weight=91),\n",
       " Person(name='張莉雯', height=157, weight=82),\n",
       " Person(name='林佳人', height=177, weight=54),\n",
       " Person(name='羅佩樺', height=194, weight=108),\n",
       " Person(name='陳淑娟', height=179, weight=65),\n",
       " Person(name='吳晴洋', height=195, weight=65),\n",
       " Person(name='白世宏', height=173, weight=100),\n",
       " Person(name='余宗儒', height=166, weight=97),\n",
       " Person(name='周家銘', height=191, weight=88),\n",
       " Person(name='翁羽威', height=173, weight=60),\n",
       " Person(name='陳淑萍', height=154, weight=61),\n",
       " Person(name='余月修', height=164, weight=63),\n",
       " Person(name='李慈啟', height=179, weight=102),\n",
       " Person(name='林建勳', height=162, weight=64),\n",
       " Person(name='陳怡珊', height=158, weight=78),\n",
       " Person(name='元延辛', height=164, weight=73),\n",
       " Person(name='吳柏誠', height=151, weight=72),\n",
       " Person(name='謝貞妃', height=166, weight=108),\n",
       " Person(name='黃詩妃', height=183, weight=94),\n",
       " Person(name='白世宏', height=179, weight=87),\n",
       " Person(name='陳家年', height=164, weight=82),\n",
       " Person(name='李慶亮', height=163, weight=98),\n",
       " Person(name='吳振瑋', height=155, weight=95),\n",
       " Person(name='鞠冠宇', height=182, weight=98),\n",
       " Person(name='翁鈺婷', height=194, weight=84),\n",
       " Person(name='謝貞妃', height=182, weight=105),\n",
       " Person(name='鄧亭聿', height=154, weight=61),\n",
       " Person(name='彭虹屏', height=162, weight=63),\n",
       " Person(name='林麗萍', height=178, weight=90)]"
      ]
     },
     "execution_count": 22,
     "metadata": {},
     "output_type": "execute_result"
    }
   ],
   "source": [
    "persons:list[Person] = []\n",
    "for name in randomNames:\n",
    "    person = Person(name=name,\n",
    "           height=randint(150,195),\n",
    "           weight=randint(50,110))\n",
    "    persons.append(person)\n",
    "persons"
   ]
  },
  {
   "cell_type": "code",
   "execution_count": null,
   "metadata": {},
   "outputs": [],
   "source": []
  }
 ],
 "metadata": {
  "kernelspec": {
   "display_name": "Python 3",
   "language": "python",
   "name": "python3"
  },
  "language_info": {
   "codemirror_mode": {
    "name": "ipython",
    "version": 3
   },
   "file_extension": ".py",
   "mimetype": "text/x-python",
   "name": "python",
   "nbconvert_exporter": "python",
   "pygments_lexer": "ipython3",
   "version": "3.10.13"
  }
 },
 "nbformat": 4,
 "nbformat_minor": 2
}
